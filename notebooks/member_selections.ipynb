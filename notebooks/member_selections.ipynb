{
 "cells": [
  {
   "cell_type": "code",
   "execution_count": 14,
   "metadata": {},
   "outputs": [],
   "source": [
    "import pandas as pd\n",
    "import numpy as np\n",
    "import uuid\n",
    "from pp_ds_ml_base.config.connector import BigQueryConnectorConfig\n",
    "from pp_ds_ml_base.connectors.bigquery import BigQueryConnector\n",
    "from sxope_ml_hcc_prediction.app_config import app_config"
   ]
  },
  {
   "cell_type": "code",
   "execution_count": 15,
   "metadata": {},
   "outputs": [],
   "source": [
    "gbq_connector = BigQueryConnector(\n",
    "    BigQueryConnectorConfig(credentials_path=f\"{app_config.project_root}/secrets/credentials.json\")\n",
    ")"
   ]
  },
  {
   "cell_type": "code",
   "execution_count": 16,
   "metadata": {},
   "outputs": [],
   "source": [
    "query = '''\n",
    "select\n",
    "distinct\n",
    "member_id\n",
    "from pp-import-staging.spanner_sync_ver_10.members_eligibility\n",
    "left join pp-ds-ml-staging.ml_inference_metadata.model_predictions\n",
    "on members_eligibility.member_id = model_predictions.object_id\n",
    "where model_predictions.object_id is null\n",
    "qualify DATE_SUB(max(eligible_month_date) over(), interval 1 month) = eligible_month_date\n",
    "'''\n",
    "df_members = gbq_connector.bulk_data_download(query)"
   ]
  },
  {
   "cell_type": "code",
   "execution_count": 17,
   "metadata": {},
   "outputs": [],
   "source": [
    "df_members['member_id_hex'] = df_members['member_id'].apply(lambda x: x.hex())"
   ]
  },
  {
   "cell_type": "code",
   "execution_count": 18,
   "metadata": {},
   "outputs": [
    {
     "data": {
      "text/html": [
       "<div>\n",
       "<style scoped>\n",
       "    .dataframe tbody tr th:only-of-type {\n",
       "        vertical-align: middle;\n",
       "    }\n",
       "\n",
       "    .dataframe tbody tr th {\n",
       "        vertical-align: top;\n",
       "    }\n",
       "\n",
       "    .dataframe thead th {\n",
       "        text-align: right;\n",
       "    }\n",
       "</style>\n",
       "<table border=\"1\" class=\"dataframe\">\n",
       "  <thead>\n",
       "    <tr style=\"text-align: right;\">\n",
       "      <th></th>\n",
       "      <th>member_id</th>\n",
       "      <th>member_id_hex</th>\n",
       "    </tr>\n",
       "  </thead>\n",
       "  <tbody>\n",
       "    <tr>\n",
       "      <th>0</th>\n",
       "      <td>b'\\xe4\\\\\\xf4\\xd8 \\x08B\\xe2\\x87:\\xd8\\x1e\\xb2J\\x...</td>\n",
       "      <td>e45cf4d8200842e2873ad81eb24a19f9</td>\n",
       "    </tr>\n",
       "    <tr>\n",
       "      <th>1</th>\n",
       "      <td>b'f\\x011\\xfd\\xe8!N\\xe0\\xb0M)V\\xc1-H\\xea'</td>\n",
       "      <td>660131fde8214ee0b04d2956c12d48ea</td>\n",
       "    </tr>\n",
       "    <tr>\n",
       "      <th>2</th>\n",
       "      <td>b'\\xa5|\\xbb6\\x86;@\\x98\\x86\\x82\\x11\\r^#\\x16R'</td>\n",
       "      <td>a57cbb36863b40988682110d5e231652</td>\n",
       "    </tr>\n",
       "    <tr>\n",
       "      <th>3</th>\n",
       "      <td>b'-+%\\xd9\\r\\xeaN\\xbc\\xa8K\\xc0\\xa9\\xc1?-C'</td>\n",
       "      <td>2d2b25d90dea4ebca84bc0a9c13f2d43</td>\n",
       "    </tr>\n",
       "    <tr>\n",
       "      <th>4</th>\n",
       "      <td>b'm\\x87l\\x92&amp;\\x99KO\\xabi\\xa4S\\x10\\xa0\\x96\\xac'</td>\n",
       "      <td>6d876c9226994b4fab69a45310a096ac</td>\n",
       "    </tr>\n",
       "    <tr>\n",
       "      <th>...</th>\n",
       "      <td>...</td>\n",
       "      <td>...</td>\n",
       "    </tr>\n",
       "    <tr>\n",
       "      <th>112034</th>\n",
       "      <td>b'\\x11\\xcb\\x8d4)=F\\xa2\\x83\\xf7\\xcf\"2\\xe7\\x04\\xb8'</td>\n",
       "      <td>11cb8d34293d46a283f7cf2232e704b8</td>\n",
       "    </tr>\n",
       "    <tr>\n",
       "      <th>112035</th>\n",
       "      <td>b'\\x17~\\x07z\\xf4\\xfdI\\xf4\\xb3y\\xc46\\xa5\\xa6\\xb...</td>\n",
       "      <td>177e077af4fd49f4b379c436a5a6b9c7</td>\n",
       "    </tr>\n",
       "    <tr>\n",
       "      <th>112036</th>\n",
       "      <td>b'\\xc8\\x10&gt;%\\teG\\xd4\\x8dn\\xe0t\\x84\\x17\\x95\\x9d'</td>\n",
       "      <td>c8103e25096547d48d6ee0748417959d</td>\n",
       "    </tr>\n",
       "    <tr>\n",
       "      <th>112037</th>\n",
       "      <td>b'\\x85Z,/U\\x87C\\xfd\\xb8x|{&gt;\\x0e\\x8e\\xc7'</td>\n",
       "      <td>855a2c2f558743fdb8787c7b3e0e8ec7</td>\n",
       "    </tr>\n",
       "    <tr>\n",
       "      <th>112038</th>\n",
       "      <td>b'\\xf2\\x0f\\xda\\xd67\\xd3O\\xda\\x89\\xee\\x8ag\\xb6\\...</td>\n",
       "      <td>f20fdad637d34fda89ee8a67b6f4d3d9</td>\n",
       "    </tr>\n",
       "  </tbody>\n",
       "</table>\n",
       "<p>112039 rows × 2 columns</p>\n",
       "</div>"
      ],
      "text/plain": [
       "                                                member_id  \\\n",
       "0       b'\\xe4\\\\\\xf4\\xd8 \\x08B\\xe2\\x87:\\xd8\\x1e\\xb2J\\x...   \n",
       "1                b'f\\x011\\xfd\\xe8!N\\xe0\\xb0M)V\\xc1-H\\xea'   \n",
       "2            b'\\xa5|\\xbb6\\x86;@\\x98\\x86\\x82\\x11\\r^#\\x16R'   \n",
       "3               b'-+%\\xd9\\r\\xeaN\\xbc\\xa8K\\xc0\\xa9\\xc1?-C'   \n",
       "4          b'm\\x87l\\x92&\\x99KO\\xabi\\xa4S\\x10\\xa0\\x96\\xac'   \n",
       "...                                                   ...   \n",
       "112034  b'\\x11\\xcb\\x8d4)=F\\xa2\\x83\\xf7\\xcf\"2\\xe7\\x04\\xb8'   \n",
       "112035  b'\\x17~\\x07z\\xf4\\xfdI\\xf4\\xb3y\\xc46\\xa5\\xa6\\xb...   \n",
       "112036    b'\\xc8\\x10>%\\teG\\xd4\\x8dn\\xe0t\\x84\\x17\\x95\\x9d'   \n",
       "112037           b'\\x85Z,/U\\x87C\\xfd\\xb8x|{>\\x0e\\x8e\\xc7'   \n",
       "112038  b'\\xf2\\x0f\\xda\\xd67\\xd3O\\xda\\x89\\xee\\x8ag\\xb6\\...   \n",
       "\n",
       "                           member_id_hex  \n",
       "0       e45cf4d8200842e2873ad81eb24a19f9  \n",
       "1       660131fde8214ee0b04d2956c12d48ea  \n",
       "2       a57cbb36863b40988682110d5e231652  \n",
       "3       2d2b25d90dea4ebca84bc0a9c13f2d43  \n",
       "4       6d876c9226994b4fab69a45310a096ac  \n",
       "...                                  ...  \n",
       "112034  11cb8d34293d46a283f7cf2232e704b8  \n",
       "112035  177e077af4fd49f4b379c436a5a6b9c7  \n",
       "112036  c8103e25096547d48d6ee0748417959d  \n",
       "112037  855a2c2f558743fdb8787c7b3e0e8ec7  \n",
       "112038  f20fdad637d34fda89ee8a67b6f4d3d9  \n",
       "\n",
       "[112039 rows x 2 columns]"
      ]
     },
     "execution_count": 18,
     "metadata": {},
     "output_type": "execute_result"
    }
   ],
   "source": [
    "df_members"
   ]
  },
  {
   "cell_type": "code",
   "execution_count": 19,
   "metadata": {},
   "outputs": [],
   "source": [
    "dfs = []\n",
    "step = 5000\n",
    "for i in range(int(np.ceil(df_members.shape[0] / step))):\n",
    "    df_members.loc[step*i:step*(i+1), \"member_id_hex\"].to_csv(\n",
    "        f\"{app_config.project_root}/artifacts_sample/member_list_{i}.txt\",\n",
    "        header=False, index=False\n",
    "    )"
   ]
  },
  {
   "cell_type": "code",
   "execution_count": null,
   "metadata": {},
   "outputs": [],
   "source": []
  }
 ],
 "metadata": {
  "kernelspec": {
   "display_name": "sxope-ml-hcc-prediction-05N5s1se-py3.9",
   "language": "python",
   "name": "python3"
  },
  "language_info": {
   "codemirror_mode": {
    "name": "ipython",
    "version": 3
   },
   "file_extension": ".py",
   "mimetype": "text/x-python",
   "name": "python",
   "nbconvert_exporter": "python",
   "pygments_lexer": "ipython3",
   "version": "3.9.12"
  },
  "orig_nbformat": 4
 },
 "nbformat": 4,
 "nbformat_minor": 2
}