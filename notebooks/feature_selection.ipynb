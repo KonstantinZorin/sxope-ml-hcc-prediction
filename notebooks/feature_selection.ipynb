{
 "cells": [
  {
   "cell_type": "code",
   "execution_count": 1,
   "metadata": {},
   "outputs": [],
   "source": [
    "import pandas as pd\n",
    "import numpy as np\n",
    "import sys\n",
    "import os\n",
    "import pickle\n",
    "sys.path.append(os.path.abspath('..'))\n",
    "\n",
    "from sxope_ml_hcc_prediction.app_config import app_config"
   ]
  },
  {
   "cell_type": "code",
   "execution_count": 2,
   "metadata": {},
   "outputs": [],
   "source": [
    "df_train = pd.read_pickle('../src/sxope_ml_hcc_prediction/static/data/staging/train/data_2017_01_01__2022_12_01.pkl')\n",
    "df_test = pd.read_pickle('../src/sxope_ml_hcc_prediction/static/data/staging/test/data_2017_01_01__2023_02_01.pkl')"
   ]
  },
  {
   "cell_type": "code",
   "execution_count": 3,
   "metadata": {},
   "outputs": [],
   "source": [
    "label_cols_mask = df_train.columns.to_series().apply(lambda x: x[0]) == \"label\"\n",
    "feature_cols_mask = ~label_cols_mask\n",
    "label_columns = df_train.columns[label_cols_mask]\n",
    "label_columns_list = label_columns.values\n",
    "feature_columns = df_train.columns[feature_cols_mask]\n",
    "feature_columns_list = feature_columns.values"
   ]
  },
  {
   "cell_type": "code",
   "execution_count": 14,
   "metadata": {},
   "outputs": [],
   "source": [
    "label_columns_last_element = label_columns.to_series().apply(lambda x: x[-1][-1][-1])"
   ]
  },
  {
   "cell_type": "code",
   "execution_count": 5,
   "metadata": {},
   "outputs": [
    {
     "data": {
      "text/plain": [
       "Index([                                           ('dummy', ('hcc_code', (b'\\x00\\xa8\\x1b\\x94\\x16\\xc5L)\\xb1Z;\\x13\\xceJ\\xb0\\xe7', 3, 40))),\n",
       "                                                        ('dummy', ('hcc_code', (b'\\x00\\xb4\\xfb\\x8a\\x01\\x84A|\\xa9\\xa0s@v\\x14@:', 3, 79))),\n",
       "                                                       ('dummy', ('hcc_code', (b'\\x01/U\\x16\\xc5)@y\\x81\\xc8d\\xfbk\\xdb\\x8d\\x8c', 3, 189))),\n",
       "                                                                 ('dummy', ('hcc_code', (b\"\\x01b\\xbb'%UC\\x0f\\x88!IB\\xfc\\x1eSJ\", 3, 40))),\n",
       "                                                             ('dummy', ('hcc_code', (b'\\x01{\\x05^\\xf2\\xaeIf\\x9eVT\\x8bH\\xc9AR', 3, 167))),\n",
       "                                                             ('dummy', ('hcc_code', (b'\\x01\\x89Z\\x16\\xab]A\\xdd\\x94k\\xa7*]Q2#', 3, 170))),\n",
       "                                               ('dummy', ('hcc_code', (b'\\x02\\x07\\xdbA\\xfb=B\\x8d\\xb79\\x7f\\xef\\x9f\\xd5\\xda\\xc4', 3, 22))),\n",
       "                                                         ('dummy', ('hcc_code', (b'\\x02?C\\xa0\\xd7\\x9fN/\\x8c\\t\\x93\\x9eh9.\\x07', 3, 159))),\n",
       "                                                    ('dummy', ('hcc_code', (b'\\x02z\\xb1\\xd8\\x9cc@x\\x8f\\xf8B\\x9a\\x90\\x9b\\xf9B', 3, 104))),\n",
       "                                             ('dummy', ('hcc_code', (b'\\x02\\xa5\\x85\\x0cf\\x10J\\x02\\x88\\xeb\\xcbi\\xa2\\x16\\xef\\t', 3, 115))),\n",
       "       ...\n",
       "                        ('result_value_transaction_entity_value', ('loinc_num', (b'\\xff4\\tvW\\xa9G\\x89\\x9aO\\xcdG\\x98C>\\xa9', '15179-5'))),\n",
       "       ('result_value_transaction_entity_value', ('loinc_num', (b'\\xff5\\xa1\\xe5\\xbf\\x96M\\x1a\\x9c\\xd0\\xa3\\xea\\xfc*\\x8d\\xc0', '25106-6'))),\n",
       "                          ('result_value_transaction_entity_value', ('loinc_num', (b'\\xff?\\x18p\\x90GF\\xf3\\x82O\\xac:- E\\xa9', '7407-0'))),\n",
       "                              ('result_value_transaction_entity_value', ('loinc_num', (b'\\xffXr\\x9exeA\\xe6\\x9d}q8VU\\t\\xd3', '63092-1'))),\n",
       "                       ('result_value_transaction_entity_value', ('loinc_num', (b'\\xffvR>\\xad\\xb5BQ\\xac\\x0fH\\x85(\\x95Y\\xf5', '2164-2'))),\n",
       "               ('result_value_transaction_entity_value', ('loinc_num', (b'\\xff\\xb0)\\x8f\\xef^E\\n\\x8cW\\x98\\x11\\x81\\xbd\\xf7s', '34909-2'))),\n",
       "           ('result_value_transaction_entity_value', ('loinc_num', (b'\\xff\\xc8\\x14\\xe8\\xc6\\x8dF!\\xb0\\x17\\xfd\\xc0\\xfc`\\x19a', '2999-1'))),\n",
       "          ('result_value_transaction_entity_value', ('loinc_num', (b'\\xff\\xe0m\\x8e\\xd2&@\\xfe\\xb6\\x99K\\xc6\\x99\\x1e\\xec\\xb6', '14135-8'))),\n",
       "                   ('result_value_transaction_entity_value', ('loinc_num', (b'\\xff\\xe8\\xd5S\\x02SK9\\xaeD\\xa9\\xb2Y\\xb3\\x81p', '58369-0'))),\n",
       "                                                                  ('result_value_transaction_entity_value', ('loinc_num', (None, None)))],\n",
       "      dtype='object', length=34679)"
      ]
     },
     "execution_count": 5,
     "metadata": {},
     "output_type": "execute_result"
    }
   ],
   "source": [
    "feature_columns"
   ]
  },
  {
   "cell_type": "code",
   "execution_count": 4,
   "metadata": {},
   "outputs": [
    {
     "data": {
      "text/plain": [
       "Index([ ('label', ('dummy', ('latest_hcc_code', (b'\\x13\\x91\\xc6\\xa2\\xeew@V\\x9b\\x8f\\xa6\\x81;\\xd5*\\xc6', 3, 35)))),\n",
       "              ('label', ('dummy', ('latest_hcc_code', (b'\\x14$\\x11\\x1aM\\x05B\\xf7\\xbb\\xf1\\n6:\\xb9S\\xab', 3, 1)))),\n",
       "           ('label', ('dummy', ('latest_hcc_code', (b'\\x16:\\xda\\x13t\\x9fJ\\xab\\x9ee\\x15\\x13@\\x95L\\x17', 3, 85)))),\n",
       "          ('label', ('dummy', ('latest_hcc_code', (b'\\x17\\x0e\\xd8\\x0bH\\x92K*\\x97\\xb2>ps\\xe4\\x08\\x1f', 3, 167)))),\n",
       "              ('label', ('dummy', ('latest_hcc_code', (b'\\x19;Ig\\x04\\xe1C\\x0f\\xbf!\\xee\\xaa\\xa2]7\\xae', 3, 96)))),\n",
       "       ('label', ('dummy', ('latest_hcc_code', (b'\\x1b\\xb3\\xc2\\t\\xf3\\xdeEq\\x823\\xe0\\x94\\xcaa\\xf4\\xdc', 3, 55)))),\n",
       "        ('label', ('dummy', ('latest_hcc_code', (b'\\x1e#;\\xc6\\xc7\\x17G\\xbd\\xbf\\x11\\xf7\\x85R\\xcb\\xf5y', 3, 76)))),\n",
       "       ('label', ('dummy', ('latest_hcc_code', (b'\\x1e^\\x99\\xeeK\\nBH\\xa4\\x99\\xfb\\x0f\\x01\\xfd\\xe4\\xb9', 3, 34)))),\n",
       "               ('label', ('dummy', ('latest_hcc_code', (b'\\'\\xf5V\\x83\\r\\x16J\\xb4\\x9f+}X\"\\xeb\\x80\\xa4', 3, 51)))),\n",
       "               ('label', ('dummy', ('latest_hcc_code', (b'\\'\\xf5V\\x83\\r\\x16J\\xb4\\x9f+}X\"\\xeb\\x80\\xa4', 3, 52)))),\n",
       "       ...\n",
       "       ('label', ('dummy', ('latest_hcc_code', (b'\\xf0\\x1b\\x83Z\\xa0EN4\\xb9\\xec\\xdc\\x11\\xe11\\xf1\\xfe', 3, 189)))),\n",
       "                     ('label', ('dummy', ('latest_hcc_code', (b'\\xf3\\x0e?BrjL\\xbb\\x82\\xce$E\\xf7@\\xcb^', 3, 8)))),\n",
       "                     ('label', ('dummy', ('latest_hcc_code', (b'\\xf3\\x0e?BrjL\\xbb\\x82\\xce$E\\xf7@\\xcb^', 3, 9)))),\n",
       "                    ('label', ('dummy', ('latest_hcc_code', (b'\\xf3\\x0e?BrjL\\xbb\\x82\\xce$E\\xf7@\\xcb^', 3, 10)))),\n",
       "                    ('label', ('dummy', ('latest_hcc_code', (b'\\xf3\\x0e?BrjL\\xbb\\x82\\xce$E\\xf7@\\xcb^', 3, 11)))),\n",
       "                    ('label', ('dummy', ('latest_hcc_code', (b'\\xf3\\x0e?BrjL\\xbb\\x82\\xce$E\\xf7@\\xcb^', 3, 12)))),\n",
       "           ('label', ('dummy', ('latest_hcc_code', (b'\\xf4\\x19\\xfdGM\\x04M\\xcd\\x93F\\xd18\\x91\\xe5X\\xa3', 3, 99)))),\n",
       "          ('label', ('dummy', ('latest_hcc_code', (b'\\xf4\\x19\\xfdGM\\x04M\\xcd\\x93F\\xd18\\x91\\xe5X\\xa3', 3, 100)))),\n",
       "                 ('label', ('dummy', ('latest_hcc_code', (b'\\xf8y\\x8c6\\x15WE\\x17\\x8fg\\x07|\\x8dw%\\x18', 3, 23)))),\n",
       "                                                      ('label', ('dummy', ('latest_hcc_code', (None, 3, <NA>))))],\n",
       "      dtype='object', length=102)"
      ]
     },
     "execution_count": 4,
     "metadata": {},
     "output_type": "execute_result"
    }
   ],
   "source": [
    "label_columns"
   ]
  },
  {
   "cell_type": "code",
   "execution_count": 19,
   "metadata": {},
   "outputs": [
    {
     "ename": "IndexError",
     "evalue": "index 366 is out of bounds for axis 0 with size 366",
     "output_type": "error",
     "traceback": [
      "\u001b[0;31m---------------------------------------------------------------------------\u001b[0m",
      "\u001b[0;31mIndexError\u001b[0m                                Traceback (most recent call last)",
      "Cell \u001b[0;32mIn[19], line 5\u001b[0m\n\u001b[1;32m      1\u001b[0m \u001b[39m# removing NAN columns detected in vscode data viewer\u001b[39;00m\n\u001b[1;32m      2\u001b[0m \u001b[39m# feature_columns = feature_columns.delete([\u001b[39;00m\n\u001b[1;32m      3\u001b[0m \u001b[39m#     90, 100, 1159, 4507\u001b[39;00m\n\u001b[1;32m      4\u001b[0m \u001b[39m# ])\u001b[39;00m\n\u001b[0;32m----> 5\u001b[0m label_columns \u001b[39m=\u001b[39m label_columns\u001b[39m.\u001b[39;49mdelete([\n\u001b[1;32m      6\u001b[0m     \u001b[39m366\u001b[39;49m\n\u001b[1;32m      7\u001b[0m ])\n",
      "File \u001b[0;32m~/.cache/pypoetry/virtualenvs/sxope-ml-hcc-prediction-05N5s1se-py3.9/lib/python3.9/site-packages/pandas/core/indexes/base.py:6837\u001b[0m, in \u001b[0;36mIndex.delete\u001b[0;34m(self, loc)\u001b[0m\n\u001b[1;32m   6834\u001b[0m res_values: ArrayLike\n\u001b[1;32m   6835\u001b[0m \u001b[39mif\u001b[39;00m \u001b[39misinstance\u001b[39m(values, np\u001b[39m.\u001b[39mndarray):\n\u001b[1;32m   6836\u001b[0m     \u001b[39m# TODO(__array_function__): special casing will be unnecessary\u001b[39;00m\n\u001b[0;32m-> 6837\u001b[0m     res_values \u001b[39m=\u001b[39m np\u001b[39m.\u001b[39;49mdelete(values, loc)\n\u001b[1;32m   6838\u001b[0m \u001b[39melse\u001b[39;00m:\n\u001b[1;32m   6839\u001b[0m     res_values \u001b[39m=\u001b[39m values\u001b[39m.\u001b[39mdelete(loc)\n",
      "File \u001b[0;32m<__array_function__ internals>:180\u001b[0m, in \u001b[0;36mdelete\u001b[0;34m(*args, **kwargs)\u001b[0m\n",
      "File \u001b[0;32m~/.cache/pypoetry/virtualenvs/sxope-ml-hcc-prediction-05N5s1se-py3.9/lib/python3.9/site-packages/numpy/lib/function_base.py:5156\u001b[0m, in \u001b[0;36mdelete\u001b[0;34m(arr, obj, axis)\u001b[0m\n\u001b[1;32m   5153\u001b[0m \u001b[39mif\u001b[39;00m single_value:\n\u001b[1;32m   5154\u001b[0m     \u001b[39m# optimization for a single value\u001b[39;00m\n\u001b[1;32m   5155\u001b[0m     \u001b[39mif\u001b[39;00m (obj \u001b[39m<\u001b[39m \u001b[39m-\u001b[39mN \u001b[39mor\u001b[39;00m obj \u001b[39m>\u001b[39m\u001b[39m=\u001b[39m N):\n\u001b[0;32m-> 5156\u001b[0m         \u001b[39mraise\u001b[39;00m \u001b[39mIndexError\u001b[39;00m(\n\u001b[1;32m   5157\u001b[0m             \u001b[39m\"\u001b[39m\u001b[39mindex \u001b[39m\u001b[39m%i\u001b[39;00m\u001b[39m is out of bounds for axis \u001b[39m\u001b[39m%i\u001b[39;00m\u001b[39m with \u001b[39m\u001b[39m\"\u001b[39m\n\u001b[1;32m   5158\u001b[0m             \u001b[39m\"\u001b[39m\u001b[39msize \u001b[39m\u001b[39m%i\u001b[39;00m\u001b[39m\"\u001b[39m \u001b[39m%\u001b[39m (obj, axis, N))\n\u001b[1;32m   5159\u001b[0m     \u001b[39mif\u001b[39;00m (obj \u001b[39m<\u001b[39m \u001b[39m0\u001b[39m):\n\u001b[1;32m   5160\u001b[0m         obj \u001b[39m+\u001b[39m\u001b[39m=\u001b[39m N\n",
      "\u001b[0;31mIndexError\u001b[0m: index 366 is out of bounds for axis 0 with size 366"
     ]
    }
   ],
   "source": [
    "# removing NAN columns detected in vscode data viewer\n",
    "# feature_columns = feature_columns.delete([\n",
    "#     90, 100, 1159, 4507\n",
    "# ])\n",
    "label_columns = label_columns.delete([\n",
    "    366\n",
    "])"
   ]
  },
  {
   "cell_type": "code",
   "execution_count": 20,
   "metadata": {},
   "outputs": [],
   "source": [
    "with open(\"../src/sxope_ml_hcc_prediction/static/meta/train/staging/feature_columns.pkl\", \"wb\") as f:\n",
    "    pickle.dump(feature_columns.to_list(), f)\n",
    "\n",
    "with open(\"../src/sxope_ml_hcc_prediction/static/meta/train/staging/label_columns.pkl\", \"wb\") as f:\n",
    "    pickle.dump(label_columns.to_list(), f)"
   ]
  },
  {
   "cell_type": "code",
   "execution_count": null,
   "metadata": {},
   "outputs": [],
   "source": []
  }
 ],
 "metadata": {
  "kernelspec": {
   "display_name": "sxope-ml-hcc-prediction-05N5s1se-py3.9",
   "language": "python",
   "name": "python3"
  },
  "language_info": {
   "codemirror_mode": {
    "name": "ipython",
    "version": 3
   },
   "file_extension": ".py",
   "mimetype": "text/x-python",
   "name": "python",
   "nbconvert_exporter": "python",
   "pygments_lexer": "ipython3",
   "version": "3.9.12"
  },
  "orig_nbformat": 4,
  "vscode": {
   "interpreter": {
    "hash": "f18320dc7bcfbdbd6baa6b3190b51fba110facd8315005a518630310448d1bd5"
   }
  }
 },
 "nbformat": 4,
 "nbformat_minor": 2
}
