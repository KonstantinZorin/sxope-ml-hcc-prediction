{
 "cells": [
  {
   "cell_type": "code",
   "execution_count": 19,
   "metadata": {},
   "outputs": [],
   "source": [
    "from pp_ds_ml_base.config.connector import CloudStorageConnectorConfig\n",
    "from pp_ds_ml_base.connectors.cloud_storage import CloudStorageConnector\n",
    "from sxope_ml_hcc_prediction.app_config import app_config\n",
    "from pathlib import Path"
   ]
  },
  {
   "cell_type": "code",
   "execution_count": 5,
   "metadata": {},
   "outputs": [],
   "source": [
    "config = CloudStorageConnectorConfig(\n",
    "    credentials_path=app_config.project_root / \"secrets/credentials.json\",\n",
    "    project=\"pp-ds-ml-staging\",\n",
    "    bucket_name=\"sxope-ml-data-staging\"\n",
    ")\n",
    "gcs_connector = CloudStorageConnector(config)"
   ]
  },
  {
   "cell_type": "code",
   "execution_count": 30,
   "metadata": {},
   "outputs": [],
   "source": [
    "def upload_to_gcs(data_type: str = 'train'): \n",
    "    train_path = f\"datasets/sxope-ml-hcc-prediction/2023.03.13/{data_type}/\"\n",
    "    for file in Path(f\"{str(app_config.project_root)}/src/sxope_ml_hcc_prediction/static/data/staging/{data_type}/\").glob(\"*.pkl\"):\n",
    "        blob = gcs_connector.client.blob(f\"{train_path}{file.name}\")\n",
    "        blob.upload_from_filename(file)"
   ]
  },
  {
   "cell_type": "code",
   "execution_count": null,
   "metadata": {},
   "outputs": [],
   "source": [
    "upload_to_gcs(\"train\")"
   ]
  },
  {
   "cell_type": "code",
   "execution_count": 31,
   "metadata": {},
   "outputs": [],
   "source": [
    "upload_to_gcs(\"test\")"
   ]
  },
  {
   "cell_type": "code",
   "execution_count": null,
   "metadata": {},
   "outputs": [],
   "source": []
  }
 ],
 "metadata": {
  "kernelspec": {
   "display_name": "sxope-ml-hcc-prediction-05N5s1se-py3.9",
   "language": "python",
   "name": "python3"
  },
  "language_info": {
   "codemirror_mode": {
    "name": "ipython",
    "version": 3
   },
   "file_extension": ".py",
   "mimetype": "text/x-python",
   "name": "python",
   "nbconvert_exporter": "python",
   "pygments_lexer": "ipython3",
   "version": "3.9.12"
  },
  "orig_nbformat": 4
 },
 "nbformat": 4,
 "nbformat_minor": 2
}
