{
 "cells": [
  {
   "cell_type": "code",
   "execution_count": 1,
   "metadata": {},
   "outputs": [],
   "source": [
    "import pandas as pd\n",
    "import numpy as np\n",
    "import uuid\n",
    "from pp_ds_ml_base.config.connector import BigQueryConnectorConfig\n",
    "from pp_ds_ml_base.connectors.bigquery import BigQueryConnector\n",
    "from sxope_ml_hcc_prediction.app_config import app_config"
   ]
  },
  {
   "cell_type": "code",
   "execution_count": 2,
   "metadata": {},
   "outputs": [],
   "source": [
    "gbq_connector = BigQueryConnector(\n",
    "    BigQueryConnectorConfig(credentials_path=f\"{app_config.project_root}/secrets/credentials.json\")\n",
    ")"
   ]
  },
  {
   "attachments": {},
   "cell_type": "markdown",
   "metadata": {},
   "source": [
    "# Confidence level bucket upload"
   ]
  },
  {
   "cell_type": "code",
   "execution_count": 9,
   "metadata": {},
   "outputs": [
    {
     "data": {
      "text/html": [
       "<div>\n",
       "<style scoped>\n",
       "    .dataframe tbody tr th:only-of-type {\n",
       "        vertical-align: middle;\n",
       "    }\n",
       "\n",
       "    .dataframe tbody tr th {\n",
       "        vertical-align: top;\n",
       "    }\n",
       "\n",
       "    .dataframe thead th {\n",
       "        text-align: right;\n",
       "    }\n",
       "</style>\n",
       "<table border=\"1\" class=\"dataframe\">\n",
       "  <thead>\n",
       "    <tr style=\"text-align: right;\">\n",
       "      <th></th>\n",
       "      <th>confidence_bucket_id</th>\n",
       "      <th>model_version_id</th>\n",
       "      <th>bucket_start_inclusively</th>\n",
       "      <th>bucket_end_exclusively</th>\n",
       "      <th>confidence_level_id</th>\n",
       "    </tr>\n",
       "  </thead>\n",
       "  <tbody>\n",
       "    <tr>\n",
       "      <th>0</th>\n",
       "      <td>b'\\xc8G\\xfc@\\x1b\\x95H\\x85\\x86Nm\\x16\\x11\\xbb\\xd...</td>\n",
       "      <td>b'\\x7f\\xd4O\\xfb\\x0f\\xafH\\xeb\\x83\\xdc K\\xb2\\x81!|'</td>\n",
       "      <td>0.0</td>\n",
       "      <td>0.1</td>\n",
       "      <td>1</td>\n",
       "    </tr>\n",
       "    <tr>\n",
       "      <th>1</th>\n",
       "      <td>b'p_\\xe3=\\xfe\\x92@w\\xa78\\xbb\\x0b\\xc9n\\x9fG'</td>\n",
       "      <td>b'\\x7f\\xd4O\\xfb\\x0f\\xafH\\xeb\\x83\\xdc K\\xb2\\x81!|'</td>\n",
       "      <td>0.1</td>\n",
       "      <td>0.2</td>\n",
       "      <td>1</td>\n",
       "    </tr>\n",
       "    <tr>\n",
       "      <th>2</th>\n",
       "      <td>b'\\x10w\\xf2\\xddz\\x1cM\\xa0\\x97dh\\xafX\\x96\\xc1\\xde'</td>\n",
       "      <td>b'\\x7f\\xd4O\\xfb\\x0f\\xafH\\xeb\\x83\\xdc K\\xb2\\x81!|'</td>\n",
       "      <td>0.2</td>\n",
       "      <td>0.3</td>\n",
       "      <td>2</td>\n",
       "    </tr>\n",
       "    <tr>\n",
       "      <th>3</th>\n",
       "      <td>b'z\\xc8\\xf9E\\x91PA9\\xb7\\xe4\\x85\\xa2\\xa0.\\x97\\xc3'</td>\n",
       "      <td>b'\\x7f\\xd4O\\xfb\\x0f\\xafH\\xeb\\x83\\xdc K\\xb2\\x81!|'</td>\n",
       "      <td>0.3</td>\n",
       "      <td>0.4</td>\n",
       "      <td>2</td>\n",
       "    </tr>\n",
       "    <tr>\n",
       "      <th>4</th>\n",
       "      <td>b'\\x064\\xb1\\xf5\\xd0UOp\\x8e8L&gt;O\\x81)}'</td>\n",
       "      <td>b'\\x7f\\xd4O\\xfb\\x0f\\xafH\\xeb\\x83\\xdc K\\xb2\\x81!|'</td>\n",
       "      <td>0.4</td>\n",
       "      <td>0.5</td>\n",
       "      <td>2</td>\n",
       "    </tr>\n",
       "    <tr>\n",
       "      <th>5</th>\n",
       "      <td>b'\\x809\\xa3E\\xd8\\x8bCe\\x85\\x13\\\\\\xcc\\xc5X\\x13\\...</td>\n",
       "      <td>b'\\x7f\\xd4O\\xfb\\x0f\\xafH\\xeb\\x83\\xdc K\\xb2\\x81!|'</td>\n",
       "      <td>0.5</td>\n",
       "      <td>0.6</td>\n",
       "      <td>3</td>\n",
       "    </tr>\n",
       "    <tr>\n",
       "      <th>6</th>\n",
       "      <td>b'a\\x07\\xf8\\x00p\\x1bH\\xc9\\xad\\xb7+\\x1d\\xab\\xde...</td>\n",
       "      <td>b'\\x7f\\xd4O\\xfb\\x0f\\xafH\\xeb\\x83\\xdc K\\xb2\\x81!|'</td>\n",
       "      <td>0.6</td>\n",
       "      <td>0.7</td>\n",
       "      <td>3</td>\n",
       "    </tr>\n",
       "    <tr>\n",
       "      <th>7</th>\n",
       "      <td>b'n\\xd3nS \\x15O\\xe8\\x9d\\xa3k\\xec\\x80\\x05\\x1c\\x8e'</td>\n",
       "      <td>b'\\x7f\\xd4O\\xfb\\x0f\\xafH\\xeb\\x83\\xdc K\\xb2\\x81!|'</td>\n",
       "      <td>0.7</td>\n",
       "      <td>0.8</td>\n",
       "      <td>3</td>\n",
       "    </tr>\n",
       "    <tr>\n",
       "      <th>8</th>\n",
       "      <td>b'\\xe5q\\x9e\\x18\\xe8\\x8eO\\xc7\\x921\\x10\\xb6\\x8a\\...</td>\n",
       "      <td>b'\\x7f\\xd4O\\xfb\\x0f\\xafH\\xeb\\x83\\xdc K\\xb2\\x81!|'</td>\n",
       "      <td>0.8</td>\n",
       "      <td>0.9</td>\n",
       "      <td>4</td>\n",
       "    </tr>\n",
       "    <tr>\n",
       "      <th>9</th>\n",
       "      <td>b'j\\xc0\\xd1\\x14S\\x9aF\\x9d\\xb8\\x8d \\x0020\\xfd\\xbc'</td>\n",
       "      <td>b'\\x7f\\xd4O\\xfb\\x0f\\xafH\\xeb\\x83\\xdc K\\xb2\\x81!|'</td>\n",
       "      <td>0.9</td>\n",
       "      <td>1.1</td>\n",
       "      <td>4</td>\n",
       "    </tr>\n",
       "  </tbody>\n",
       "</table>\n",
       "</div>"
      ],
      "text/plain": [
       "                                confidence_bucket_id  \\\n",
       "0  b'\\xc8G\\xfc@\\x1b\\x95H\\x85\\x86Nm\\x16\\x11\\xbb\\xd...   \n",
       "1        b'p_\\xe3=\\xfe\\x92@w\\xa78\\xbb\\x0b\\xc9n\\x9fG'   \n",
       "2  b'\\x10w\\xf2\\xddz\\x1cM\\xa0\\x97dh\\xafX\\x96\\xc1\\xde'   \n",
       "3  b'z\\xc8\\xf9E\\x91PA9\\xb7\\xe4\\x85\\xa2\\xa0.\\x97\\xc3'   \n",
       "4              b'\\x064\\xb1\\xf5\\xd0UOp\\x8e8L>O\\x81)}'   \n",
       "5  b'\\x809\\xa3E\\xd8\\x8bCe\\x85\\x13\\\\\\xcc\\xc5X\\x13\\...   \n",
       "6  b'a\\x07\\xf8\\x00p\\x1bH\\xc9\\xad\\xb7+\\x1d\\xab\\xde...   \n",
       "7  b'n\\xd3nS \\x15O\\xe8\\x9d\\xa3k\\xec\\x80\\x05\\x1c\\x8e'   \n",
       "8  b'\\xe5q\\x9e\\x18\\xe8\\x8eO\\xc7\\x921\\x10\\xb6\\x8a\\...   \n",
       "9  b'j\\xc0\\xd1\\x14S\\x9aF\\x9d\\xb8\\x8d \\x0020\\xfd\\xbc'   \n",
       "\n",
       "                                    model_version_id  \\\n",
       "0  b'\\x7f\\xd4O\\xfb\\x0f\\xafH\\xeb\\x83\\xdc K\\xb2\\x81!|'   \n",
       "1  b'\\x7f\\xd4O\\xfb\\x0f\\xafH\\xeb\\x83\\xdc K\\xb2\\x81!|'   \n",
       "2  b'\\x7f\\xd4O\\xfb\\x0f\\xafH\\xeb\\x83\\xdc K\\xb2\\x81!|'   \n",
       "3  b'\\x7f\\xd4O\\xfb\\x0f\\xafH\\xeb\\x83\\xdc K\\xb2\\x81!|'   \n",
       "4  b'\\x7f\\xd4O\\xfb\\x0f\\xafH\\xeb\\x83\\xdc K\\xb2\\x81!|'   \n",
       "5  b'\\x7f\\xd4O\\xfb\\x0f\\xafH\\xeb\\x83\\xdc K\\xb2\\x81!|'   \n",
       "6  b'\\x7f\\xd4O\\xfb\\x0f\\xafH\\xeb\\x83\\xdc K\\xb2\\x81!|'   \n",
       "7  b'\\x7f\\xd4O\\xfb\\x0f\\xafH\\xeb\\x83\\xdc K\\xb2\\x81!|'   \n",
       "8  b'\\x7f\\xd4O\\xfb\\x0f\\xafH\\xeb\\x83\\xdc K\\xb2\\x81!|'   \n",
       "9  b'\\x7f\\xd4O\\xfb\\x0f\\xafH\\xeb\\x83\\xdc K\\xb2\\x81!|'   \n",
       "\n",
       "   bucket_start_inclusively  bucket_end_exclusively  confidence_level_id  \n",
       "0                       0.0                     0.1                    1  \n",
       "1                       0.1                     0.2                    1  \n",
       "2                       0.2                     0.3                    2  \n",
       "3                       0.3                     0.4                    2  \n",
       "4                       0.4                     0.5                    2  \n",
       "5                       0.5                     0.6                    3  \n",
       "6                       0.6                     0.7                    3  \n",
       "7                       0.7                     0.8                    3  \n",
       "8                       0.8                     0.9                    4  \n",
       "9                       0.9                     1.1                    4  "
      ]
     },
     "execution_count": 9,
     "metadata": {},
     "output_type": "execute_result"
    }
   ],
   "source": [
    "model_version_id = b'\\x7f\\xd4O\\xfb\\x0f\\xafH\\xeb\\x83\\xdc K\\xb2\\x81!|'\n",
    "confidence_buckets = {\n",
    "    'confidence_bucket_id': [uuid.uuid4().bytes for _ in range(10)],\n",
    "    'model_version_id': [model_version_id for _ in range(10)],\n",
    "    'bucket_start_inclusively': [round(0.1*i, 2) for i in range(10)],\n",
    "    'bucket_end_exclusively': [round(0.1 + 0.1*(i if i < 9 else 10), 2) for i in range(10)],\n",
    "    'confidence_level_id': [1, 1, 2, 2, 2, 3, 3, 3, 4, 4]\n",
    "}\n",
    "confidence_buckets = pd.DataFrame(confidence_buckets)\n",
    "confidence_buckets"
   ]
  },
  {
   "cell_type": "code",
   "execution_count": 10,
   "metadata": {},
   "outputs": [
    {
     "data": {
      "text/plain": [
       "LoadJob<project=pp-ds-ml-staging, location=US, id=302444e4-61d3-4447-a762-403066c37f5b>"
      ]
     },
     "execution_count": 10,
     "metadata": {},
     "output_type": "execute_result"
    }
   ],
   "source": [
    "gbq_connector.bulk_data_upload(confidence_buckets, f\"pp-ds-ml-staging.general_predictions.confidence_buckets\")"
   ]
  },
  {
   "attachments": {},
   "cell_type": "markdown",
   "metadata": {},
   "source": [
    "# Model upload"
   ]
  },
  {
   "cell_type": "code",
   "execution_count": 3,
   "metadata": {},
   "outputs": [
    {
     "data": {
      "text/html": [
       "<div>\n",
       "<style scoped>\n",
       "    .dataframe tbody tr th:only-of-type {\n",
       "        vertical-align: middle;\n",
       "    }\n",
       "\n",
       "    .dataframe tbody tr th {\n",
       "        vertical-align: top;\n",
       "    }\n",
       "\n",
       "    .dataframe thead th {\n",
       "        text-align: right;\n",
       "    }\n",
       "</style>\n",
       "<table border=\"1\" class=\"dataframe\">\n",
       "  <thead>\n",
       "    <tr style=\"text-align: right;\">\n",
       "      <th></th>\n",
       "      <th>model_id</th>\n",
       "      <th>model_type_id</th>\n",
       "      <th>model_object_type_id</th>\n",
       "      <th>model_name</th>\n",
       "      <th>model_url</th>\n",
       "    </tr>\n",
       "  </thead>\n",
       "  <tbody>\n",
       "    <tr>\n",
       "      <th>0</th>\n",
       "      <td>b'\\xf0\\xf9\\xba\\x7f\\xa4yN`\\x86\\xa7(\\xc4\\x97\\x95...</td>\n",
       "      <td>1</td>\n",
       "      <td>b';D\\x12\\x15\\xaf\\xb1C\\x06\\xbfC\\xca\\x1d)*`\\xdf'</td>\n",
       "      <td>sxope-ml-hcc-prediction</td>\n",
       "      <td>https://github.com/inventcorp/sxope-ml-hcc-pre...</td>\n",
       "    </tr>\n",
       "  </tbody>\n",
       "</table>\n",
       "</div>"
      ],
      "text/plain": [
       "                                            model_id  model_type_id  \\\n",
       "0  b'\\xf0\\xf9\\xba\\x7f\\xa4yN`\\x86\\xa7(\\xc4\\x97\\x95...              1   \n",
       "\n",
       "                             model_object_type_id               model_name  \\\n",
       "0  b';D\\x12\\x15\\xaf\\xb1C\\x06\\xbfC\\xca\\x1d)*`\\xdf'  sxope-ml-hcc-prediction   \n",
       "\n",
       "                                           model_url  \n",
       "0  https://github.com/inventcorp/sxope-ml-hcc-pre...  "
      ]
     },
     "execution_count": 3,
     "metadata": {},
     "output_type": "execute_result"
    }
   ],
   "source": [
    "models = {\n",
    "    'model_id': [uuid.uuid4().bytes],\n",
    "    'model_type_id': [1],\n",
    "    'model_object_type_id': [bytes.fromhex(\"3b441215afb14306bf43ca1d292a60df\")],\n",
    "    'model_name': [\"sxope-ml-hcc-prediction\"],\n",
    "    'model_url': [\"https://github.com/inventcorp/sxope-ml-hcc-prediction\"]\n",
    "}\n",
    "models = pd.DataFrame(models)\n",
    "models"
   ]
  },
  {
   "cell_type": "code",
   "execution_count": 4,
   "metadata": {},
   "outputs": [
    {
     "data": {
      "text/plain": [
       "LoadJob<project=pp-ds-ml-staging, location=US, id=c9d5961d-d4e6-414a-a1c8-a38c554b0791>"
      ]
     },
     "execution_count": 4,
     "metadata": {},
     "output_type": "execute_result"
    }
   ],
   "source": [
    "gbq_connector.bulk_data_upload(models, f\"pp-ds-ml-staging.ml_inference_metadata.models\")"
   ]
  },
  {
   "cell_type": "code",
   "execution_count": null,
   "metadata": {},
   "outputs": [],
   "source": []
  }
 ],
 "metadata": {
  "kernelspec": {
   "display_name": "sxope-ml-hcc-prediction-05N5s1se-py3.9",
   "language": "python",
   "name": "python3"
  },
  "language_info": {
   "codemirror_mode": {
    "name": "ipython",
    "version": 3
   },
   "file_extension": ".py",
   "mimetype": "text/x-python",
   "name": "python",
   "nbconvert_exporter": "python",
   "pygments_lexer": "ipython3",
   "version": "3.9.12"
  },
  "orig_nbformat": 4
 },
 "nbformat": 4,
 "nbformat_minor": 2
}